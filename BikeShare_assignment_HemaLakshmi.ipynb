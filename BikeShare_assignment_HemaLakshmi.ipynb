{
 "cells": [
  {
   "cell_type": "code",
   "execution_count": null,
   "id": "2aea2261",
   "metadata": {},
   "outputs": [],
   "source": [
    "#IMPORT LIBRARIES\n",
    "import numpy as np\n",
    "import pandas as pd\n",
    "import sklearn\n",
    "from sklearn.model_selection import train_test_split\n",
    "from sklearn.preprocessing import MinMaxScaler\n",
    "from sklearn.feature_selection import RFE\n",
    "from sklearn.linear_model import LinearRegression\n",
    "from sklearn.metrics import r2_score\n",
    "import statsmodels.api as sm\n",
    "from statsmodels.stats.outliers_influence import variance_inflation_factor\n",
    "import matplotlib.pyplot as plt\n",
    "import seaborn as sns\n",
    "#SUPRESS WARNINGS\n",
    "import warnings\n",
    "warnings.filterwarnings('ignore')"
   ]
  },
  {
   "cell_type": "code",
   "execution_count": null,
   "id": "458b965f",
   "metadata": {},
   "outputs": [],
   "source": [
    "bike = pd.read_csv(\"day.csv\")\n",
    "bike.head()"
   ]
  },
  {
   "cell_type": "code",
   "execution_count": null,
   "id": "bbda85e1",
   "metadata": {},
   "outputs": [],
   "source": [
    "bike.info()"
   ]
  },
  {
   "cell_type": "code",
   "execution_count": null,
   "id": "e9ba6892",
   "metadata": {},
   "outputs": [],
   "source": [
    "bike.shape"
   ]
  },
  {
   "cell_type": "code",
   "execution_count": null,
   "id": "40f6235f",
   "metadata": {},
   "outputs": [],
   "source": [
    "bike.describe()"
   ]
  },
  {
   "cell_type": "code",
   "execution_count": null,
   "id": "7fc7dc2d",
   "metadata": {},
   "outputs": [],
   "source": [
    "#check for null values- no null values in column data\n",
    "bike.isnull().sum()"
   ]
  },
  {
   "cell_type": "code",
   "execution_count": null,
   "id": "68a89178",
   "metadata": {},
   "outputs": [],
   "source": [
    "#renaming few columns\n",
    "bike.rename(columns={'yr':'year','mnth':'month','hum':'humidity'},inplace=True)"
   ]
  },
  {
   "cell_type": "code",
   "execution_count": null,
   "id": "fac549b4",
   "metadata": {},
   "outputs": [],
   "source": [
    "bike.head()"
   ]
  },
  {
   "cell_type": "code",
   "execution_count": null,
   "id": "b35a9da0",
   "metadata": {},
   "outputs": [],
   "source": [
    "bike_copy = bike.copy()\n",
    "bike_copy.shape"
   ]
  },
  {
   "cell_type": "code",
   "execution_count": null,
   "id": "8eea753c",
   "metadata": {},
   "outputs": [],
   "source": [
    "bike_copy.drop_duplicates(inplace=True)\n",
    "bike_copy.shape"
   ]
  },
  {
   "cell_type": "code",
   "execution_count": null,
   "id": "1dfb9f83",
   "metadata": {},
   "outputs": [],
   "source": [
    "bike = bike.drop(['registered','instant'],axis=1)"
   ]
  },
  {
   "cell_type": "code",
   "execution_count": null,
   "id": "6faad5f6",
   "metadata": {},
   "outputs": [],
   "source": [
    "bike = bike.drop('casual',axis=1)"
   ]
  },
  {
   "cell_type": "code",
   "execution_count": null,
   "id": "f2fccd24",
   "metadata": {},
   "outputs": [],
   "source": [
    "bike = bike.drop('dteday',axis=1)\n",
    "bike.head()"
   ]
  },
  {
   "cell_type": "code",
   "execution_count": null,
   "id": "2c286eb1",
   "metadata": {},
   "outputs": [],
   "source": [
    "bike.season = bike.season.map({1:'spring',2:'summer',3:'fall',4:'winter'})"
   ]
  },
  {
   "cell_type": "code",
   "execution_count": null,
   "id": "d13de41e",
   "metadata": {},
   "outputs": [],
   "source": [
    "bike.month =bike.month.map({1:'jan',2:'feb',3:'mar',4:'apr',5:'may',6:'jun',7:'jul',8:'aug',9:'sep',10:'oct',11:'nov',12:'dec'})"
   ]
  },
  {
   "cell_type": "code",
   "execution_count": null,
   "id": "71050391",
   "metadata": {},
   "outputs": [],
   "source": [
    "bike.weekday = bike.weekday.map({0:'sun',1:'mon',2:'tue',3:'wed',4:'thu',5:'fri',6:'sat'})"
   ]
  },
  {
   "cell_type": "code",
   "execution_count": null,
   "id": "48f477f1",
   "metadata": {},
   "outputs": [],
   "source": [
    "bike.weathersit =bike.weathersit.map({1:'Clear',2:'Misty',3:'Light_snowrain',4:'Heavy_snowrain'})"
   ]
  },
  {
   "cell_type": "code",
   "execution_count": null,
   "id": "78f441e7",
   "metadata": {},
   "outputs": [],
   "source": [
    "bike.head()"
   ]
  },
  {
   "cell_type": "code",
   "execution_count": null,
   "id": "af859e80",
   "metadata": {},
   "outputs": [],
   "source": [
    "bike.info()"
   ]
  },
  {
   "cell_type": "code",
   "execution_count": null,
   "id": "11e17c23",
   "metadata": {},
   "outputs": [],
   "source": [
    "#analysing/visualising the categorical columns to see how the predictor variable stands against the target variable"
   ]
  },
  {
   "cell_type": "code",
   "execution_count": null,
   "id": "72ecebad",
   "metadata": {},
   "outputs": [],
   "source": [
    "plt.figure(figsize=(20,12))\n",
    "plt.subplot(2,4,1)\n",
    "sns.boxplot(x='season',y='cnt',data=bike)\n",
    "plt.subplot(2,4,2)\n",
    "sns.boxplot(x='month',y='cnt',data=bike)\n",
    "plt.subplot(2,4,3)\n",
    "sns.boxplot(x='weekday',y='cnt',data=bike)\n",
    "plt.subplot(2,4,4)\n",
    "sns.boxplot(x='weathersit',y='cnt',data=bike)\n",
    "plt.subplot(2,4,5)\n",
    "sns.boxplot(x='holiday',y='cnt',data=bike)\n",
    "plt.subplot(2,4,6)\n",
    "sns.boxplot(x='year',y='cnt',data=bike)\n",
    "plt.subplot(2,4,7)\n",
    "sns.boxplot(x='workingday',y='cnt',data=bike)"
   ]
  },
  {
   "cell_type": "code",
   "execution_count": null,
   "id": "4e1ae894",
   "metadata": {},
   "outputs": [],
   "source": [
    "def plot_cat_columns(column):\n",
    "    plt.figure(figsize=(12,6))\n",
    "    plt.subplot(1,2,1)\n",
    "    sns.barplot(x=column,y='cnt',data=bike)\n",
    "    plt.subplot(1,2,2)\n",
    "    sns.barplot(x=column,y='cnt',data=bike,hue='year',palette='Set1')\n",
    "    plt.legend(labels=['2018','2019'])\n",
    "    plt.show()\n",
    "    "
   ]
  },
  {
   "cell_type": "code",
   "execution_count": null,
   "id": "975b39ba",
   "metadata": {},
   "outputs": [],
   "source": [
    "plot_cat_columns('month')"
   ]
  },
  {
   "cell_type": "code",
   "execution_count": null,
   "id": "25c4dc7b",
   "metadata": {},
   "outputs": [],
   "source": [
    "plot_cat_columns('holiday')"
   ]
  },
  {
   "cell_type": "code",
   "execution_count": null,
   "id": "a9f57e44",
   "metadata": {},
   "outputs": [],
   "source": [
    "plot_cat_columns('season')"
   ]
  },
  {
   "cell_type": "code",
   "execution_count": null,
   "id": "3c9be5f4",
   "metadata": {},
   "outputs": [],
   "source": [
    "plot_cat_columns('workingday')"
   ]
  },
  {
   "cell_type": "code",
   "execution_count": null,
   "id": "d645b627",
   "metadata": {},
   "outputs": [],
   "source": [
    "plot_cat_columns('year')"
   ]
  },
  {
   "cell_type": "code",
   "execution_count": null,
   "id": "fdad0800",
   "metadata": {},
   "outputs": [],
   "source": [
    "plot_cat_columns('weekday')"
   ]
  },
  {
   "cell_type": "code",
   "execution_count": null,
   "id": "3fba0fab",
   "metadata": {},
   "outputs": [],
   "source": [
    "###STEP 2:Visualising the Data\n",
    "sns.pairplot(bike,vars=['temp','atemp','humidity','windspeed','cnt'])\n",
    "plt.show()"
   ]
  },
  {
   "cell_type": "code",
   "execution_count": null,
   "id": "55369254",
   "metadata": {},
   "outputs": [],
   "source": [
    "plt.figure(figsize=(6,6))\n",
    "matrix=np.triu(bike[['temp','atemp','humidity','windspeed','cnt']].corr())\n",
    "sns.heatmap(bike[['temp','atemp','humidity','windspeed','cnt']].corr(),annot=True,cmap=\"RdYlGn\",mask=matrix)\n",
    "plt.title(\"Relation between Numerical varables\")\n",
    "plt.show()\n"
   ]
  },
  {
   "cell_type": "code",
   "execution_count": null,
   "id": "d3a75807",
   "metadata": {},
   "outputs": [],
   "source": [
    "###STEP #: Data preparation\n",
    "#dummy variable creation\n",
    "months_df=pd.get_dummies(bike.month,drop_first=True)\n",
    "weekdays_df=pd.get_dummies(bike.weekday,drop_first=True)\n",
    "weathersit_df=pd.get_dummies(bike.weathersit,drop_first=True)\n",
    "seasons_df=pd.get_dummies(bike.season,drop_first=True)"
   ]
  },
  {
   "cell_type": "code",
   "execution_count": null,
   "id": "35b96e9f",
   "metadata": {},
   "outputs": [],
   "source": [
    "bike.head()"
   ]
  },
  {
   "cell_type": "code",
   "execution_count": null,
   "id": "642c6b4c",
   "metadata": {},
   "outputs": [],
   "source": [
    "bike_new = pd.concat([bike,months_df,weekdays_df,weathersit_df,seasons_df],axis=1)\n",
    "bike_new.head()"
   ]
  },
  {
   "cell_type": "code",
   "execution_count": null,
   "id": "69c8749d",
   "metadata": {},
   "outputs": [],
   "source": [
    "bike_new.info()"
   ]
  },
  {
   "cell_type": "code",
   "execution_count": null,
   "id": "9687ee31",
   "metadata": {},
   "outputs": [],
   "source": [
    "bike_new.drop(['season','month','weekday','weathersit'],axis=1,inplace=True)\n"
   ]
  },
  {
   "cell_type": "code",
   "execution_count": null,
   "id": "f55d286f",
   "metadata": {},
   "outputs": [],
   "source": [
    "bike_new.info()"
   ]
  },
  {
   "cell_type": "code",
   "execution_count": null,
   "id": "72708419",
   "metadata": {},
   "outputs": [],
   "source": [
    "bike_new.shape"
   ]
  },
  {
   "cell_type": "code",
   "execution_count": null,
   "id": "770221da",
   "metadata": {},
   "outputs": [],
   "source": [
    "##4. Splitting the data into training and testing sets\n",
    "np.random.seed(0)"
   ]
  },
  {
   "cell_type": "code",
   "execution_count": null,
   "id": "33b1734c",
   "metadata": {},
   "outputs": [],
   "source": [
    "df_train,df_test = train_test_split(bike_new,train_size=0.7,random_state=100)\n",
    "print(df_train.shape)\n",
    "print(df_test.shape)"
   ]
  },
  {
   "cell_type": "code",
   "execution_count": null,
   "id": "1ea0e3a6",
   "metadata": {},
   "outputs": [],
   "source": [
    "scaler = MinMaxScaler()"
   ]
  },
  {
   "cell_type": "code",
   "execution_count": null,
   "id": "d4267914",
   "metadata": {},
   "outputs": [],
   "source": [
    "df_train.head()"
   ]
  },
  {
   "cell_type": "code",
   "execution_count": null,
   "id": "f25027c2",
   "metadata": {},
   "outputs": [],
   "source": [
    "num_vars = [ 'temp', 'atemp', 'humidity', 'windspeed','cnt']\n",
    "df_train[num_vars]= scaler.fit_transform(df_train[num_vars])\n"
   ]
  },
  {
   "cell_type": "code",
   "execution_count": null,
   "id": "d3a58937",
   "metadata": {},
   "outputs": [],
   "source": [
    "df_train.head()"
   ]
  },
  {
   "cell_type": "code",
   "execution_count": null,
   "id": "82c68520",
   "metadata": {},
   "outputs": [],
   "source": [
    "df_train.describe()"
   ]
  },
  {
   "cell_type": "code",
   "execution_count": null,
   "id": "62d762ce",
   "metadata": {},
   "outputs": [],
   "source": [
    "plt.figure(figsize =(16,10))\n",
    "matrix=np.triu(df_train.corr())\n",
    "sns.heatmap(df_train.corr(),annot = True,cmap=\"RdYlGn\",mask=matrix)\n",
    "plt.show()"
   ]
  },
  {
   "cell_type": "code",
   "execution_count": null,
   "id": "9e0909b4",
   "metadata": {},
   "outputs": [],
   "source": [
    "plt.figure(figsize =[6,6])\n",
    "plt.scatter(df_train.temp,df_train.cnt)\n",
    "plt.show()"
   ]
  },
  {
   "cell_type": "code",
   "execution_count": null,
   "id": "196d49ae",
   "metadata": {},
   "outputs": [],
   "source": [
    "y_train = df_train.pop('cnt')\n",
    "X_train = df_train\n"
   ]
  },
  {
   "cell_type": "code",
   "execution_count": null,
   "id": "62dd234e",
   "metadata": {},
   "outputs": [],
   "source": [
    "#recursive feature elimination\n",
    "lm=LinearRegression()\n",
    "lm.fit(X_train,y_train)\n",
    "rfe=RFE(lm)\n",
    "rfe=rfe.fit(X_train,y_train)"
   ]
  },
  {
   "cell_type": "code",
   "execution_count": null,
   "id": "b6b0e59a",
   "metadata": {},
   "outputs": [],
   "source": [
    "#List of variables selected in top 15 list\n",
    "\n",
    "list(zip(X_train.columns,rfe.support_,rfe.ranking_))"
   ]
  },
  {
   "cell_type": "code",
   "execution_count": null,
   "id": "f152aa10",
   "metadata": {},
   "outputs": [],
   "source": [
    "# selecting the selected variable via RFE in col list\n",
    "\n",
    "col = X_train.columns[rfe.support_]\n",
    "print(col)"
   ]
  },
  {
   "cell_type": "code",
   "execution_count": null,
   "id": "3dfebe1a",
   "metadata": {},
   "outputs": [],
   "source": [
    "col1=X_train.columns[~rfe.support_]"
   ]
  },
  {
   "cell_type": "code",
   "execution_count": null,
   "id": "16dbed74",
   "metadata": {},
   "outputs": [],
   "source": []
  },
  {
   "cell_type": "code",
   "execution_count": null,
   "id": "440d2e80",
   "metadata": {},
   "outputs": [],
   "source": [
    "# calculating VIF for the variables\n",
    "def calculateVIF(bike):\n",
    "    vif= pd.DataFrame()\n",
    "    bike = bike.select_dtypes(include='number')  # Select only numeric columns\n",
    "    bike = bike.fillna(0)  # Impute missing values with 0 (adjust as needed)\n",
    "    vif['Features']=bike.columns\n",
    "    vif['VIF']=[variance_inflation_factor(bike.values,i) for i in range(bike.shape[1])]\n",
    "    vif['VIF'] = round(vif['VIF'],2)\n",
    "    vif=vif.sort_values(by=\"VIF\",ascending=False)\n",
    "    return vif"
   ]
  },
  {
   "cell_type": "code",
   "execution_count": null,
   "id": "da476c05",
   "metadata": {},
   "outputs": [],
   "source": [
    "X_train_rfe = X_train[col1]"
   ]
  },
  {
   "cell_type": "code",
   "execution_count": null,
   "id": "d47f5635",
   "metadata": {},
   "outputs": [],
   "source": [
    "X_train_rfe.info()"
   ]
  },
  {
   "cell_type": "code",
   "execution_count": null,
   "id": "e3a5778f",
   "metadata": {},
   "outputs": [],
   "source": [
    "calculateVIF(X_train_rfe)"
   ]
  },
  {
   "cell_type": "code",
   "execution_count": null,
   "id": "88af62b6",
   "metadata": {},
   "outputs": [],
   "source": [
    "##Step 5 :building a linear model\n",
    "X_train_rfe = X_train[col]"
   ]
  },
  {
   "cell_type": "code",
   "execution_count": null,
   "id": "503f06f9",
   "metadata": {},
   "outputs": [],
   "source": [
    "\n",
    "X_train_lm_1 = sm.add_constant(X_train_rfe)\n",
    "lr_1 = sm.OLS(y_train,X_train_lm_1).fit()\n",
    "print(lr_1.summary())"
   ]
  },
  {
   "cell_type": "code",
   "execution_count": null,
   "id": "67c35080",
   "metadata": {},
   "outputs": [],
   "source": [
    "X_train_new = X_train_rfe.drop(['humidity'], axis = 1)\n",
    "\n",
    "# Run the function to calculate VIF for the new model\n",
    "calculateVIF(X_train_new)"
   ]
  },
  {
   "cell_type": "code",
   "execution_count": null,
   "id": "8699b6f8",
   "metadata": {},
   "outputs": [],
   "source": [
    "X_train_lm_2 = sm.add_constant(X_train_new)\n",
    "lr_2 = sm.OLS(y_train,X_train_lm_2).fit()\n",
    "print(lr_2.summary())"
   ]
  },
  {
   "cell_type": "code",
   "execution_count": null,
   "id": "6bf3745a",
   "metadata": {},
   "outputs": [],
   "source": [
    "X_train_new = X_train_new.drop(['nov'], axis = 1)\n",
    "\n",
    "# Run the function to calculate VIF for the new model\n",
    "calculateVIF(X_train_new)"
   ]
  },
  {
   "cell_type": "code",
   "execution_count": null,
   "id": "b6eae18d",
   "metadata": {},
   "outputs": [],
   "source": [
    "X_train_lm_3 = sm.add_constant(X_train_new)\n",
    "lr_3 = sm.OLS(y_train,X_train_lm_3).fit()\n",
    "print(lr_3.summary())"
   ]
  },
  {
   "cell_type": "code",
   "execution_count": null,
   "id": "033060de",
   "metadata": {},
   "outputs": [],
   "source": [
    "# We can drop dec variable as it has high p-value\n",
    "X_train_new = X_train_new.drop(['dec'], axis = 1)\n",
    "\n",
    "# Run the function to calculate VIF for the new model\n",
    "calculateVIF(X_train_new)"
   ]
  },
  {
   "cell_type": "code",
   "execution_count": null,
   "id": "e6a358bc",
   "metadata": {},
   "outputs": [],
   "source": [
    "\n",
    "X_train_lm_4 = sm.add_constant(X_train_new)\n",
    "lr_4 = sm.OLS(y_train,X_train_lm_4).fit()\n",
    "print(lr_4.summary())"
   ]
  },
  {
   "cell_type": "code",
   "execution_count": null,
   "id": "e8a5560d",
   "metadata": {},
   "outputs": [],
   "source": [
    "# We can drop jan variable as it has high p-value\n",
    "X_train_new = X_train_new.drop(['jan'], axis = 1)\n",
    "\n",
    "# Run the function to calculate VIF for the new model\n",
    "calculateVIF(X_train_new)"
   ]
  },
  {
   "cell_type": "code",
   "execution_count": null,
   "id": "e8942c40",
   "metadata": {},
   "outputs": [],
   "source": [
    "# Building 5th linear regression model\n",
    "\n",
    "X_train_lm_5 = sm.add_constant(X_train_new)\n",
    "lr_5 = sm.OLS(y_train,X_train_lm_5).fit()\n",
    "print(lr_5.summary())"
   ]
  },
  {
   "cell_type": "code",
   "execution_count": null,
   "id": "f6243fb9",
   "metadata": {},
   "outputs": [],
   "source": [
    "# We can drop july variable as it has high p-value\n",
    "X_train_new = X_train_new.drop(['july'], axis = 1)\n",
    "\n",
    "# Run the function to calculate VIF for the new model\n",
    "calculateVIF(X_train_new)"
   ]
  },
  {
   "cell_type": "code",
   "execution_count": null,
   "id": "9387225f",
   "metadata": {},
   "outputs": [],
   "source": [
    "# Building 6th linear regression model\n",
    "\n",
    "X_train_lm_6 = sm.add_constant(X_train_new)\n",
    "lr_6 = sm.OLS(y_train,X_train_lm_6).fit()\n",
    "print(lr_6.summary())"
   ]
  },
  {
   "cell_type": "code",
   "execution_count": null,
   "id": "3a78a2a0",
   "metadata": {},
   "outputs": [],
   "source": [
    "# Checking the parameters and their coefficient values\n",
    "lr_6.params"
   ]
  },
  {
   "cell_type": "code",
   "execution_count": null,
   "id": "018bd471",
   "metadata": {},
   "outputs": [],
   "source": [
    "X_train_lm_6\n",
    "y_train_pred = lr_6.predict(X_train_lm_6)"
   ]
  },
  {
   "cell_type": "code",
   "execution_count": null,
   "id": "7f11c03d",
   "metadata": {},
   "outputs": [],
   "source": [
    "# Plot the histogram of the error terms\n",
    "\n",
    "fig = plt.figure()\n",
    "sns.distplot((y_train - y_train_pred), bins = 20)\n",
    "fig.suptitle('Error Terms', fontsize = 20) \n",
    "plt.xlabel('Errors', fontsize = 18)"
   ]
  },
  {
   "cell_type": "code",
   "execution_count": null,
   "id": "99e1a3cb",
   "metadata": {},
   "outputs": [],
   "source": [
    "calculateVIF(X_train_new)"
   ]
  },
  {
   "cell_type": "code",
   "execution_count": null,
   "id": "c49a237e",
   "metadata": {},
   "outputs": [],
   "source": [
    "plt.figure(figsize=(15,8))\n",
    "sns.heatmap(X_train_new.corr(),annot = True, cmap=\"RdYlGn\")\n",
    "plt.show()"
   ]
  },
  {
   "cell_type": "code",
   "execution_count": null,
   "id": "994df8f9",
   "metadata": {},
   "outputs": [],
   "source": [
    "# Linear relationship validation using CCPR plot\n",
    "# Component and component plus residual plot\n",
    "\n",
    "sm.graphics.plot_ccpr(lr_6, 'temp')\n",
    "plt.show()\n",
    "\n",
    "sm.graphics.plot_ccpr(lr_6, 'sep')\n",
    "plt.show()\n",
    "\n",
    "sm.graphics.plot_ccpr(lr_6, 'windspeed')\n",
    "plt.show()"
   ]
  },
  {
   "cell_type": "code",
   "execution_count": null,
   "id": "7d8a33d9",
   "metadata": {},
   "outputs": [],
   "source": [
    "y_train_pred = lr_6.predict(X_train_lm_6)\n",
    "residual = y_train - y_train_pred\n",
    "sns.scatterplot(y_train,residual)\n",
    "plt.plot(y_train,(y_train - y_train), '-r')\n",
    "plt.xlabel('Count')\n",
    "plt.ylabel('Residual')\n",
    "plt.show()"
   ]
  },
  {
   "cell_type": "code",
   "execution_count": null,
   "id": "06ab328c",
   "metadata": {},
   "outputs": [],
   "source": [
    "# Applying scaling on the test dataset\n",
    "\n",
    "num_vars = ['temp', 'atemp', 'humidity', 'windspeed','cnt']\n",
    "df_test[num_vars] = scaler.transform(df_test[num_vars])\n",
    "df_test.head()"
   ]
  },
  {
   "cell_type": "code",
   "execution_count": null,
   "id": "6d1239ce",
   "metadata": {},
   "outputs": [],
   "source": [
    "df_test.describe()"
   ]
  },
  {
   "cell_type": "code",
   "execution_count": null,
   "id": "273ed07a",
   "metadata": {},
   "outputs": [],
   "source": [
    "y_test = df_test.pop('cnt')\n",
    "X_test = df_test"
   ]
  },
  {
   "cell_type": "code",
   "execution_count": null,
   "id": "de75d739",
   "metadata": {},
   "outputs": [],
   "source": [
    "col1 = X_train_new.columns\n",
    "\n",
    "X_test = X_test[col1]\n",
    "\n",
    "# Adding constant variable to test dataframe\n",
    "X_test_lm_6 = sm.add_constant(X_test)"
   ]
  },
  {
   "cell_type": "code",
   "execution_count": null,
   "id": "5fb73867",
   "metadata": {},
   "outputs": [],
   "source": [
    "y_pred = lr_6.predict(X_test_lm_6)"
   ]
  },
  {
   "cell_type": "code",
   "execution_count": null,
   "id": "ad310e0f",
   "metadata": {},
   "outputs": [],
   "source": [
    "r2 = r2_score(y_test, y_pred)\n",
    "round(r2,4)"
   ]
  },
  {
   "cell_type": "code",
   "execution_count": null,
   "id": "7d9bcbde",
   "metadata": {},
   "outputs": [],
   "source": []
  },
  {
   "cell_type": "code",
   "execution_count": null,
   "id": "0f95115f",
   "metadata": {},
   "outputs": [],
   "source": [
    "round(lr_6.params,4)"
   ]
  },
  {
   "cell_type": "code",
   "execution_count": null,
   "id": "2cb61bdb",
   "metadata": {},
   "outputs": [],
   "source": [
    "# Calculating Adjusted-R^2 value for the test dataset\n",
    "\n",
    "adjusted_r2 = round(1-(1-r2)*(X_test.shape[0]-1)/(X_test.shape[0]-X_test.shape[1]-1),4)\n",
    "print(adjusted_r2)"
   ]
  },
  {
   "cell_type": "code",
   "execution_count": null,
   "id": "bfc6a19d",
   "metadata": {},
   "outputs": [],
   "source": [
    "# Visualizing the fit on the test data\n",
    "# plotting a Regression plot\n",
    "\n",
    "plt.figure()\n",
    "sns.regplot(x=y_test, y=y_pred, ci=68, fit_reg=True,scatter_kws={\"color\": \"blue\"}, line_kws={\"color\": \"red\"})\n",
    "plt.title('y_test vs y_pred', fontsize=20)\n",
    "plt.xlabel('y_test', fontsize=18)\n",
    "plt.ylabel('y_pred', fontsize=16)\n",
    "plt.show()"
   ]
  },
  {
   "cell_type": "markdown",
   "id": "70b89927",
   "metadata": {},
   "source": [
    "# Comparision between Training and Testing dataset:\n",
    "    - Train dataset R^2          : 0.833\n",
    "    - Test dataset R^2           : 0.8038\n",
    "    - Train dataset Adjusted R^2 : 0.829    \n",
    "    - Test dataset Adjusted R^2  : 0.7944\n",
    "\n",
    "#### Demand of bikes depend on year, holiday, temp, windspeed, sep, Light_snowrain, Misty, spring, summer and winter.\n"
   ]
  },
  {
   "cell_type": "code",
   "execution_count": null,
   "id": "fe167d79",
   "metadata": {},
   "outputs": [],
   "source": []
  },
  {
   "cell_type": "code",
   "execution_count": null,
   "id": "8fad85f6",
   "metadata": {},
   "outputs": [],
   "source": []
  },
  {
   "cell_type": "code",
   "execution_count": null,
   "id": "f9a3cf28",
   "metadata": {},
   "outputs": [],
   "source": []
  }
 ],
 "metadata": {
  "kernelspec": {
   "display_name": "Python 3 (ipykernel)",
   "language": "python",
   "name": "python3"
  },
  "language_info": {
   "codemirror_mode": {
    "name": "ipython",
    "version": 3
   },
   "file_extension": ".py",
   "mimetype": "text/x-python",
   "name": "python",
   "nbconvert_exporter": "python",
   "pygments_lexer": "ipython3",
   "version": "3.11.5"
  }
 },
 "nbformat": 4,
 "nbformat_minor": 5
}
